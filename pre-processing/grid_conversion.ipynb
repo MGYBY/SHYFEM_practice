{
 "cells": [
  {
   "cell_type": "code",
   "execution_count": 1,
   "metadata": {},
   "outputs": [],
   "source": [
    "import xarray as xr\n",
    "import numpy as np\n",
    "import pandas as pd\n",
    "from scipy.interpolate import griddata"
   ]
  },
  {
   "cell_type": "code",
   "execution_count": 2,
   "metadata": {},
   "outputs": [
    {
     "name": "stdout",
     "output_type": "stream",
     "text": [
      "['OceanMesh2D', '']\n",
      "['24457', '13563', '']\n",
      "24457 13563\n"
     ]
    }
   ],
   "source": [
    "# general mesh info\n",
    "file_14 = r'./fort.14'\n",
    "mesh_info = []\n",
    "with open(file_14, 'r', encoding='utf-8') as f:\n",
    "    for i in range(0,2):\n",
    "        wz = f.readline()\n",
    "        wz = wz.strip('\\n')\n",
    "        wz = wz.split(' ')\n",
    "        print(wz)\n",
    "        mesh_info.append(wz)\n",
    "f.close()\n",
    "mesh_info\n",
    "ncell = np.int64(mesh_info[1][0])\n",
    "npoint = np.int64(mesh_info[1][1])\n",
    "print(ncell, npoint)"
   ]
  },
  {
   "cell_type": "code",
   "execution_count": 3,
   "metadata": {},
   "outputs": [
    {
     "name": "stderr",
     "output_type": "stream",
     "text": [
      "<>:1: SyntaxWarning: invalid escape sequence '\\s'\n",
      "<>:1: SyntaxWarning: invalid escape sequence '\\s'\n",
      "C:\\Users\\byy\\AppData\\Local\\Temp\\ipykernel_16308\\2478293161.py:1: SyntaxWarning: invalid escape sequence '\\s'\n",
      "  points = pd.read_csv(file_14, skiprows=2, header=None, nrows=npoint, sep='\\s+')\n"
     ]
    }
   ],
   "source": [
    "points = pd.read_csv(file_14, skiprows=2, header=None, nrows=npoint, sep='\\s+')\n",
    "points.columns = ['id', 'lon', 'lat', 'depth']"
   ]
  },
  {
   "cell_type": "code",
   "execution_count": 6,
   "metadata": {},
   "outputs": [
    {
     "name": "stderr",
     "output_type": "stream",
     "text": [
      "<>:1: SyntaxWarning: invalid escape sequence '\\s'\n",
      "<>:1: SyntaxWarning: invalid escape sequence '\\s'\n",
      "C:\\Users\\byy\\AppData\\Local\\Temp\\ipykernel_16308\\2731261156.py:1: SyntaxWarning: invalid escape sequence '\\s'\n",
      "  cells = pd.read_csv(file_14, skiprows=(2+npoint), header=None, nrows=ncell, sep='\\s+')\n"
     ]
    }
   ],
   "source": [
    "cells = pd.read_csv(file_14, skiprows=(2+npoint), header=None, nrows=ncell, sep='\\s+')\n",
    "# cells\n",
    "cells.columns = ['id', 'ntot', 'vert1', 'vert2', 'vert3']"
   ]
  },
  {
   "cell_type": "code",
   "execution_count": 19,
   "metadata": {},
   "outputs": [],
   "source": [
    "# start with the node section\n",
    "import os\n",
    "os.remove('./node_sec.txt')\n",
    "save_file = './node_sec.txt'\n",
    "\n",
    "with open(save_file, \"a\") as f:\n",
    "    for inode in range(npoint):\n",
    "        output_tot = np.zeros((1, 6))\n",
    "        output_tot[:, 0] = 1\n",
    "        output_tot[:, 1] = inode+1\n",
    "        output_tot[:, 2] = 0\n",
    "        output_tot[:, 3] = points['lon'][inode]\n",
    "        output_tot[:, 4] = points['lat'][inode]\n",
    "        output_tot[:, 5] = points['depth'][inode]\n",
    "        fmt_str = '%d', '%d', '%d', '%2.10f', '%2.10f', '%g'\n",
    "        np.savetxt(f, output_tot, fmt=fmt_str)\n",
    "        # f.write('\\n')\n",
    "\n",
    "f.close()"
   ]
  },
  {
   "cell_type": "code",
   "execution_count": 20,
   "metadata": {},
   "outputs": [],
   "source": [
    "# the next part is the element section\n",
    "import os\n",
    "os.remove('./element_sec.txt')\n",
    "save_file = './element_sec.txt'\n",
    "\n",
    "with open(save_file, \"a\") as f:\n",
    "    for icell in range(ncell):\n",
    "        output_tot = np.zeros((1, 7))\n",
    "        output_tot[:, 0] = 2\n",
    "        output_tot[:, 1] = icell+1\n",
    "        output_tot[:, 2] = 0\n",
    "        output_tot[:, 3] = 3\n",
    "        output_tot[:, 4] = cells['vert1'][icell]\n",
    "        output_tot[:, 5] = cells['vert2'][icell]\n",
    "        output_tot[:, 6] = cells['vert3'][icell]\n",
    "        fmt_str = '%d', '%d', '%d', '%d', '%d', '%d', '%d'\n",
    "        np.savetxt(f, output_tot, fmt=fmt_str)\n",
    "        # f.write('\\n')\n",
    "\n",
    "f.close()"
   ]
  },
  {
   "cell_type": "code",
   "execution_count": null,
   "metadata": {},
   "outputs": [],
   "source": [
    "# TODO: concatenate the two text file automatically in Python (or in Linux using `cat meshFile >> shock_adapt1.gfs` command)"
   ]
  }
 ],
 "metadata": {
  "kernelspec": {
   "display_name": "base",
   "language": "python",
   "name": "python3"
  },
  "language_info": {
   "codemirror_mode": {
    "name": "ipython",
    "version": 3
   },
   "file_extension": ".py",
   "mimetype": "text/x-python",
   "name": "python",
   "nbconvert_exporter": "python",
   "pygments_lexer": "ipython3",
   "version": "3.12.7"
  }
 },
 "nbformat": 4,
 "nbformat_minor": 2
}
